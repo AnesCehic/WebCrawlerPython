{
 "cells": [
  {
   "cell_type": "code",
   "execution_count": 1,
   "metadata": {},
   "outputs": [],
   "source": [
    "import pandas as pd"
   ]
  },
  {
   "cell_type": "code",
   "execution_count": 12,
   "metadata": {},
   "outputs": [],
   "source": [
    "data = pd.read_csv(\"Collaborating.csv\")"
   ]
  },
  {
   "cell_type": "code",
   "execution_count": 13,
   "metadata": {},
   "outputs": [
    {
     "data": {
      "text/html": [
       "<div>\n",
       "<style scoped>\n",
       "    .dataframe tbody tr th:only-of-type {\n",
       "        vertical-align: middle;\n",
       "    }\n",
       "\n",
       "    .dataframe tbody tr th {\n",
       "        vertical-align: top;\n",
       "    }\n",
       "\n",
       "    .dataframe thead th {\n",
       "        text-align: right;\n",
       "    }\n",
       "</style>\n",
       "<table border=\"1\" class=\"dataframe\">\n",
       "  <thead>\n",
       "    <tr style=\"text-align: right;\">\n",
       "      <th></th>\n",
       "      <th>link</th>\n",
       "      <th>heading</th>\n",
       "    </tr>\n",
       "  </thead>\n",
       "  <tbody>\n",
       "    <tr>\n",
       "      <th>0</th>\n",
       "      <td>/hc/en-us/articles/360000535825-Set-a-reminder...</td>\n",
       "      <td>Set a reminder for someone else</td>\n",
       "    </tr>\n",
       "    <tr>\n",
       "      <th>1</th>\n",
       "      <td>/hc/en-us/articles/214085965-Share-a-project-w...</td>\n",
       "      <td>Share a project with all its sub-projects</td>\n",
       "    </tr>\n",
       "    <tr>\n",
       "      <th>2</th>\n",
       "      <td>/hc/en-us/articles/209700245-Accept-project-in...</td>\n",
       "      <td>Accept project invites automatically</td>\n",
       "    </tr>\n",
       "    <tr>\n",
       "      <th>3</th>\n",
       "      <td>/hc/en-us/articles/213640389-Assign-a-task-to-...</td>\n",
       "      <td>Assign a task to someone else</td>\n",
       "    </tr>\n",
       "    <tr>\n",
       "      <th>4</th>\n",
       "      <td>/hc/en-us/articles/209430045-View-the-activity...</td>\n",
       "      <td>View the activity log</td>\n",
       "    </tr>\n",
       "    <tr>\n",
       "      <th>5</th>\n",
       "      <td>/hc/en-us/articles/214085945-Search-for-tasks-...</td>\n",
       "      <td>Search for tasks assigned to a certain person</td>\n",
       "    </tr>\n",
       "  </tbody>\n",
       "</table>\n",
       "</div>"
      ],
      "text/plain": [
       "                                                link  \\\n",
       "0  /hc/en-us/articles/360000535825-Set-a-reminder...   \n",
       "1  /hc/en-us/articles/214085965-Share-a-project-w...   \n",
       "2  /hc/en-us/articles/209700245-Accept-project-in...   \n",
       "3  /hc/en-us/articles/213640389-Assign-a-task-to-...   \n",
       "4  /hc/en-us/articles/209430045-View-the-activity...   \n",
       "5  /hc/en-us/articles/214085945-Search-for-tasks-...   \n",
       "\n",
       "                                         heading  \n",
       "0                Set a reminder for someone else  \n",
       "1      Share a project with all its sub-projects  \n",
       "2           Accept project invites automatically  \n",
       "3                  Assign a task to someone else  \n",
       "4                          View the activity log  \n",
       "5  Search for tasks assigned to a certain person  "
      ]
     },
     "execution_count": 13,
     "metadata": {},
     "output_type": "execute_result"
    }
   ],
   "source": [
    "data"
   ]
  },
  {
   "cell_type": "code",
   "execution_count": null,
   "metadata": {},
   "outputs": [],
   "source": []
  }
 ],
 "metadata": {
  "kernelspec": {
   "display_name": "Python 3",
   "language": "python",
   "name": "python3"
  },
  "language_info": {
   "codemirror_mode": {
    "name": "ipython",
    "version": 3
   },
   "file_extension": ".py",
   "mimetype": "text/x-python",
   "name": "python",
   "nbconvert_exporter": "python",
   "pygments_lexer": "ipython3",
   "version": "3.7.6"
  }
 },
 "nbformat": 4,
 "nbformat_minor": 4
}
